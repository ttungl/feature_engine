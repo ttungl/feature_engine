{
 "cells": [
  {
   "cell_type": "markdown",
   "metadata": {},
   "source": [
    "# Examples of target_mean_selection class for roc_auc_score classification"
   ]
  },
  {
   "cell_type": "markdown",
   "metadata": {},
   "source": [
    "## Load libraries and dataset."
   ]
  },
  {
   "cell_type": "code",
   "execution_count": 13,
   "metadata": {
    "ExecuteTime": {
     "end_time": "2020-12-13T23:54:56.520408Z",
     "start_time": "2020-12-13T23:54:54.208815Z"
    }
   },
   "outputs": [],
   "source": [
    "import pandas as pd\n",
    "import numpy as np\n",
    "import warnings\n",
    "\n",
    "from sklearn.datasets import fetch_openml\n",
    "warnings.filterwarnings('ignore')\n",
    "\n",
    "def load_titanic():\n",
    "        data = pd.read_csv('https://www.openml.org/data/get_csv/16826755/phpMYEkMl')\n",
    "        data = data.replace('?', np.nan)\n",
    "        data['pclass'] = data['pclass'].astype('O')\n",
    "        data['embarked'].fillna('C', inplace=True)\n",
    "        # numerical\n",
    "        data['fare'] = data['fare'].astype(np.float)\n",
    "        data['parch'] = data['parch'].astype(np.float)\n",
    "        data['sibsp'] = data['sibsp'].astype(np.float)\n",
    "        data['age'] = data['age'].astype(np.float)\n",
    "        data['body'] = data['body'].astype(np.float)\n",
    "        \n",
    "        return data\n",
    "\n",
    "df = load_titanic()"
   ]
  },
  {
   "cell_type": "code",
   "execution_count": 2,
   "metadata": {
    "ExecuteTime": {
     "end_time": "2020-12-13T23:54:56.536897Z",
     "start_time": "2020-12-13T23:54:56.522599Z"
    }
   },
   "outputs": [
    {
     "data": {
      "text/plain": [
       "((1309, 14),\n",
       " Index(['pclass', 'survived', 'name', 'sex', 'age', 'sibsp', 'parch', 'ticket',\n",
       "        'fare', 'cabin', 'embarked', 'boat', 'body', 'home.dest'],\n",
       "       dtype='object'))"
      ]
     },
     "execution_count": 2,
     "metadata": {},
     "output_type": "execute_result"
    }
   ],
   "source": [
    "df.shape, df.columns"
   ]
  },
  {
   "cell_type": "markdown",
   "metadata": {
    "ExecuteTime": {
     "end_time": "2020-12-13T23:46:36.780175Z",
     "start_time": "2020-12-13T23:46:36.777513Z"
    }
   },
   "source": [
    "## import the class"
   ]
  },
  {
   "cell_type": "code",
   "execution_count": 3,
   "metadata": {
    "ExecuteTime": {
     "end_time": "2020-12-13T23:54:56.610274Z",
     "start_time": "2020-12-13T23:54:56.539643Z"
    }
   },
   "outputs": [],
   "source": [
    "from feature_engine.selection import SelectByTargetMeanPerformance"
   ]
  },
  {
   "cell_type": "markdown",
   "metadata": {
    "ExecuteTime": {
     "end_time": "2020-12-13T23:46:36.857431Z",
     "start_time": "2020-12-13T23:46:36.855044Z"
    }
   },
   "source": [
    "## split features and target"
   ]
  },
  {
   "cell_type": "code",
   "execution_count": 4,
   "metadata": {
    "ExecuteTime": {
     "end_time": "2020-12-13T23:54:56.619481Z",
     "start_time": "2020-12-13T23:54:56.612465Z"
    }
   },
   "outputs": [],
   "source": [
    "X, y = df[[i for i in df.columns if i not in ['survived']]], df[['survived']]"
   ]
  },
  {
   "cell_type": "code",
   "execution_count": 5,
   "metadata": {
    "ExecuteTime": {
     "end_time": "2020-12-13T23:54:56.639501Z",
     "start_time": "2020-12-13T23:54:56.621533Z"
    }
   },
   "outputs": [
    {
     "data": {
      "text/html": [
       "<div>\n",
       "<style scoped>\n",
       "    .dataframe tbody tr th:only-of-type {\n",
       "        vertical-align: middle;\n",
       "    }\n",
       "\n",
       "    .dataframe tbody tr th {\n",
       "        vertical-align: top;\n",
       "    }\n",
       "\n",
       "    .dataframe thead th {\n",
       "        text-align: right;\n",
       "    }\n",
       "</style>\n",
       "<table border=\"1\" class=\"dataframe\">\n",
       "  <thead>\n",
       "    <tr style=\"text-align: right;\">\n",
       "      <th></th>\n",
       "      <th>pclass</th>\n",
       "      <th>name</th>\n",
       "      <th>sex</th>\n",
       "      <th>age</th>\n",
       "      <th>sibsp</th>\n",
       "      <th>parch</th>\n",
       "      <th>ticket</th>\n",
       "      <th>fare</th>\n",
       "      <th>cabin</th>\n",
       "      <th>embarked</th>\n",
       "      <th>boat</th>\n",
       "      <th>body</th>\n",
       "      <th>home.dest</th>\n",
       "    </tr>\n",
       "  </thead>\n",
       "  <tbody>\n",
       "    <tr>\n",
       "      <th>0</th>\n",
       "      <td>1</td>\n",
       "      <td>Allen, Miss. Elisabeth Walton</td>\n",
       "      <td>female</td>\n",
       "      <td>29.0000</td>\n",
       "      <td>0.0</td>\n",
       "      <td>0.0</td>\n",
       "      <td>24160</td>\n",
       "      <td>211.3375</td>\n",
       "      <td>B5</td>\n",
       "      <td>S</td>\n",
       "      <td>2</td>\n",
       "      <td>NaN</td>\n",
       "      <td>St Louis, MO</td>\n",
       "    </tr>\n",
       "    <tr>\n",
       "      <th>1</th>\n",
       "      <td>1</td>\n",
       "      <td>Allison, Master. Hudson Trevor</td>\n",
       "      <td>male</td>\n",
       "      <td>0.9167</td>\n",
       "      <td>1.0</td>\n",
       "      <td>2.0</td>\n",
       "      <td>113781</td>\n",
       "      <td>151.5500</td>\n",
       "      <td>C22 C26</td>\n",
       "      <td>S</td>\n",
       "      <td>11</td>\n",
       "      <td>NaN</td>\n",
       "      <td>Montreal, PQ / Chesterville, ON</td>\n",
       "    </tr>\n",
       "    <tr>\n",
       "      <th>2</th>\n",
       "      <td>1</td>\n",
       "      <td>Allison, Miss. Helen Loraine</td>\n",
       "      <td>female</td>\n",
       "      <td>2.0000</td>\n",
       "      <td>1.0</td>\n",
       "      <td>2.0</td>\n",
       "      <td>113781</td>\n",
       "      <td>151.5500</td>\n",
       "      <td>C22 C26</td>\n",
       "      <td>S</td>\n",
       "      <td>NaN</td>\n",
       "      <td>NaN</td>\n",
       "      <td>Montreal, PQ / Chesterville, ON</td>\n",
       "    </tr>\n",
       "    <tr>\n",
       "      <th>3</th>\n",
       "      <td>1</td>\n",
       "      <td>Allison, Mr. Hudson Joshua Creighton</td>\n",
       "      <td>male</td>\n",
       "      <td>30.0000</td>\n",
       "      <td>1.0</td>\n",
       "      <td>2.0</td>\n",
       "      <td>113781</td>\n",
       "      <td>151.5500</td>\n",
       "      <td>C22 C26</td>\n",
       "      <td>S</td>\n",
       "      <td>NaN</td>\n",
       "      <td>135.0</td>\n",
       "      <td>Montreal, PQ / Chesterville, ON</td>\n",
       "    </tr>\n",
       "    <tr>\n",
       "      <th>4</th>\n",
       "      <td>1</td>\n",
       "      <td>Allison, Mrs. Hudson J C (Bessie Waldo Daniels)</td>\n",
       "      <td>female</td>\n",
       "      <td>25.0000</td>\n",
       "      <td>1.0</td>\n",
       "      <td>2.0</td>\n",
       "      <td>113781</td>\n",
       "      <td>151.5500</td>\n",
       "      <td>C22 C26</td>\n",
       "      <td>S</td>\n",
       "      <td>NaN</td>\n",
       "      <td>NaN</td>\n",
       "      <td>Montreal, PQ / Chesterville, ON</td>\n",
       "    </tr>\n",
       "  </tbody>\n",
       "</table>\n",
       "</div>"
      ],
      "text/plain": [
       "  pclass                                             name     sex      age  \\\n",
       "0      1                    Allen, Miss. Elisabeth Walton  female  29.0000   \n",
       "1      1                   Allison, Master. Hudson Trevor    male   0.9167   \n",
       "2      1                     Allison, Miss. Helen Loraine  female   2.0000   \n",
       "3      1             Allison, Mr. Hudson Joshua Creighton    male  30.0000   \n",
       "4      1  Allison, Mrs. Hudson J C (Bessie Waldo Daniels)  female  25.0000   \n",
       "\n",
       "   sibsp  parch  ticket      fare    cabin embarked boat   body  \\\n",
       "0    0.0    0.0   24160  211.3375       B5        S    2    NaN   \n",
       "1    1.0    2.0  113781  151.5500  C22 C26        S   11    NaN   \n",
       "2    1.0    2.0  113781  151.5500  C22 C26        S  NaN    NaN   \n",
       "3    1.0    2.0  113781  151.5500  C22 C26        S  NaN  135.0   \n",
       "4    1.0    2.0  113781  151.5500  C22 C26        S  NaN    NaN   \n",
       "\n",
       "                         home.dest  \n",
       "0                     St Louis, MO  \n",
       "1  Montreal, PQ / Chesterville, ON  \n",
       "2  Montreal, PQ / Chesterville, ON  \n",
       "3  Montreal, PQ / Chesterville, ON  \n",
       "4  Montreal, PQ / Chesterville, ON  "
      ]
     },
     "execution_count": 5,
     "metadata": {},
     "output_type": "execute_result"
    }
   ],
   "source": [
    "X.head()"
   ]
  },
  {
   "cell_type": "code",
   "execution_count": 6,
   "metadata": {
    "ExecuteTime": {
     "end_time": "2020-12-13T23:54:56.648450Z",
     "start_time": "2020-12-13T23:54:56.641069Z"
    }
   },
   "outputs": [
    {
     "data": {
      "text/html": [
       "<div>\n",
       "<style scoped>\n",
       "    .dataframe tbody tr th:only-of-type {\n",
       "        vertical-align: middle;\n",
       "    }\n",
       "\n",
       "    .dataframe tbody tr th {\n",
       "        vertical-align: top;\n",
       "    }\n",
       "\n",
       "    .dataframe thead th {\n",
       "        text-align: right;\n",
       "    }\n",
       "</style>\n",
       "<table border=\"1\" class=\"dataframe\">\n",
       "  <thead>\n",
       "    <tr style=\"text-align: right;\">\n",
       "      <th></th>\n",
       "      <th>survived</th>\n",
       "    </tr>\n",
       "  </thead>\n",
       "  <tbody>\n",
       "    <tr>\n",
       "      <th>0</th>\n",
       "      <td>1</td>\n",
       "    </tr>\n",
       "    <tr>\n",
       "      <th>1</th>\n",
       "      <td>1</td>\n",
       "    </tr>\n",
       "    <tr>\n",
       "      <th>2</th>\n",
       "      <td>0</td>\n",
       "    </tr>\n",
       "    <tr>\n",
       "      <th>3</th>\n",
       "      <td>0</td>\n",
       "    </tr>\n",
       "    <tr>\n",
       "      <th>4</th>\n",
       "      <td>0</td>\n",
       "    </tr>\n",
       "  </tbody>\n",
       "</table>\n",
       "</div>"
      ],
      "text/plain": [
       "   survived\n",
       "0         1\n",
       "1         1\n",
       "2         0\n",
       "3         0\n",
       "4         0"
      ]
     },
     "execution_count": 6,
     "metadata": {},
     "output_type": "execute_result"
    }
   ],
   "source": [
    "y.head()"
   ]
  },
  {
   "cell_type": "code",
   "execution_count": 7,
   "metadata": {
    "ExecuteTime": {
     "end_time": "2020-12-13T23:54:56.659764Z",
     "start_time": "2020-12-13T23:54:56.649971Z"
    }
   },
   "outputs": [
    {
     "name": "stdout",
     "output_type": "stream",
     "text": [
      "<class 'pandas.core.frame.DataFrame'>\n",
      "RangeIndex: 1309 entries, 0 to 1308\n",
      "Data columns (total 13 columns):\n",
      " #   Column     Non-Null Count  Dtype  \n",
      "---  ------     --------------  -----  \n",
      " 0   pclass     1309 non-null   object \n",
      " 1   name       1309 non-null   object \n",
      " 2   sex        1309 non-null   object \n",
      " 3   age        1046 non-null   float64\n",
      " 4   sibsp      1309 non-null   float64\n",
      " 5   parch      1309 non-null   float64\n",
      " 6   ticket     1309 non-null   object \n",
      " 7   fare       1308 non-null   float64\n",
      " 8   cabin      295 non-null    object \n",
      " 9   embarked   1309 non-null   object \n",
      " 10  boat       486 non-null    object \n",
      " 11  body       121 non-null    float64\n",
      " 12  home.dest  745 non-null    object \n",
      "dtypes: float64(5), object(8)\n",
      "memory usage: 133.1+ KB\n"
     ]
    }
   ],
   "source": [
    "X.info()"
   ]
  },
  {
   "cell_type": "markdown",
   "metadata": {},
   "source": [
    "## Filling missing values in features"
   ]
  },
  {
   "cell_type": "code",
   "execution_count": 8,
   "metadata": {
    "ExecuteTime": {
     "end_time": "2020-12-13T23:54:56.679494Z",
     "start_time": "2020-12-13T23:54:56.662253Z"
    }
   },
   "outputs": [],
   "source": [
    "variables_categorical_ = list(X.select_dtypes(include=\"O\").columns)\n",
    "variables_numerical_ = list(X.select_dtypes(include=[\"float\", \"integer\"]).columns)\n",
    "missing_cols = ['age','fare','cabin','boat','body','home.dest']\n",
    "for col in missing_cols:\n",
    "    if col in variables_numerical_:\n",
    "        X[col].fillna(0, inplace=True)\n",
    "    elif col in variables_categorical_:\n",
    "        X[col].fillna('M', inplace=True)\n",
    "        X[col].replace('?','Missing', inplace=True)\n",
    "        X[col] = X[col].astype(str).str[0]"
   ]
  },
  {
   "cell_type": "markdown",
   "metadata": {
    "ExecuteTime": {
     "end_time": "2020-12-07T03:19:31.628021Z",
     "start_time": "2020-12-07T03:19:31.625128Z"
    }
   },
   "source": [
    "## Example #1"
   ]
  },
  {
   "cell_type": "code",
   "execution_count": 9,
   "metadata": {
    "ExecuteTime": {
     "end_time": "2020-12-13T23:54:56.806572Z",
     "start_time": "2020-12-13T23:54:56.681285Z"
    }
   },
   "outputs": [
    {
     "data": {
      "text/plain": [
       "{'fare': 0.5453941892592249,\n",
       " 'sex': 0.7605160237906083,\n",
       " 'pclass': 0.6666098851766213,\n",
       " 'age': 0.5265563622630385}"
      ]
     },
     "execution_count": 9,
     "metadata": {},
     "output_type": "execute_result"
    }
   ],
   "source": [
    "X_ = X[['fare','sex','pclass','age']]\n",
    "sel = SelectByTargetMeanPerformance(\n",
    "    variables=None,\n",
    "    scoring=\"roc_auc_score\",\n",
    "    threshold=0.78,\n",
    "    cv=2,\n",
    "    random_state=1,\n",
    ")\n",
    "sel.fit(X_, y)\n",
    "sel.transform(X_)\n",
    "sel.feature_performance_"
   ]
  },
  {
   "cell_type": "markdown",
   "metadata": {
    "ExecuteTime": {
     "end_time": "2020-12-07T03:19:35.284452Z",
     "start_time": "2020-12-07T03:19:35.282165Z"
    }
   },
   "source": [
    "## Example #2"
   ]
  },
  {
   "cell_type": "code",
   "execution_count": 10,
   "metadata": {
    "ExecuteTime": {
     "end_time": "2020-12-13T23:54:56.991254Z",
     "start_time": "2020-12-13T23:54:56.808415Z"
    }
   },
   "outputs": [
    {
     "data": {
      "text/plain": [
       "{'fare': 0.5453941892592249,\n",
       " 'sex': 0.7605160237906083,\n",
       " 'pclass': 0.6666098851766213,\n",
       " 'age': 0.5265563622630385,\n",
       " 'boat': 0.97272255043677,\n",
       " 'body': 0.5587092018986104}"
      ]
     },
     "execution_count": 10,
     "metadata": {},
     "output_type": "execute_result"
    }
   ],
   "source": [
    "X_ = X[['fare','sex','pclass','age', 'boat','body']]\n",
    "sel_ = SelectByTargetMeanPerformance(\n",
    "    variables=None,\n",
    "    scoring=\"roc_auc_score\",\n",
    "    threshold=0.58,\n",
    "    cv=2,\n",
    "    random_state=1,\n",
    ")\n",
    "sel_.fit(X_, y)\n",
    "sel_.transform(X_)\n",
    "sel_.feature_performance_"
   ]
  },
  {
   "cell_type": "markdown",
   "metadata": {},
   "source": [
    "## Example #3"
   ]
  },
  {
   "cell_type": "code",
   "execution_count": 11,
   "metadata": {
    "ExecuteTime": {
     "end_time": "2020-12-13T23:54:57.093249Z",
     "start_time": "2020-12-13T23:54:56.993075Z"
    }
   },
   "outputs": [
    {
     "data": {
      "text/plain": [
       "{'age': 0.5265563622630385,\n",
       " 'sex': 0.7605160237906083,\n",
       " 'embarked': 0.5810591007926145}"
      ]
     },
     "execution_count": 11,
     "metadata": {},
     "output_type": "execute_result"
    }
   ],
   "source": [
    "X_ = X[['age','sex','embarked']]\n",
    "\n",
    "sel_ = SelectByTargetMeanPerformance(\n",
    "    variables=None,\n",
    "    scoring=\"roc_auc_score\",\n",
    "    threshold=0.78,\n",
    "    cv=2,\n",
    "    random_state=1,\n",
    ")\n",
    "\n",
    "sel_.fit(X_, y)\n",
    "sel_.transform(X_)\n",
    "sel_.feature_performance_"
   ]
  },
  {
   "cell_type": "code",
   "execution_count": 12,
   "metadata": {
    "ExecuteTime": {
     "end_time": "2020-12-13T23:54:57.262245Z",
     "start_time": "2020-12-13T23:54:57.095060Z"
    }
   },
   "outputs": [
    {
     "data": {
      "text/plain": [
       "{'pclass': 0.6652427348009367,\n",
       " 'sibsp': 0.5141025894302392,\n",
       " 'parch': 0.5307729298063786,\n",
       " 'fare': 0.5448867797481282,\n",
       " 'body': 0.5588005849312889,\n",
       " 'boat': 0.9733184232234993}"
      ]
     },
     "execution_count": 12,
     "metadata": {},
     "output_type": "execute_result"
    }
   ],
   "source": [
    "X_ = X[['pclass','sibsp','parch','fare','body','boat']]\n",
    "sel_ = SelectByTargetMeanPerformance(\n",
    "    variables=None,\n",
    "    scoring=\"roc_auc_score\",\n",
    "    threshold=0.88,\n",
    "    cv=2,\n",
    "    random_state=42,\n",
    ")\n",
    "sel_.fit_transform(X_, y)\n",
    "sel_.feature_performance_"
   ]
  },
  {
   "cell_type": "markdown",
   "metadata": {
    "ExecuteTime": {
     "end_time": "2020-12-13T23:42:51.098789Z",
     "start_time": "2020-12-13T23:42:51.095796Z"
    }
   },
   "source": [
    "+ Note: features in ['cabin','name','ticket','home.dest'] don't work. "
   ]
  },
  {
   "cell_type": "code",
   "execution_count": null,
   "metadata": {},
   "outputs": [],
   "source": []
  }
 ],
 "metadata": {
  "kernelspec": {
   "display_name": "Python 3",
   "language": "python",
   "name": "python3"
  },
  "language_info": {
   "codemirror_mode": {
    "name": "ipython",
    "version": 3
   },
   "file_extension": ".py",
   "mimetype": "text/x-python",
   "name": "python",
   "nbconvert_exporter": "python",
   "pygments_lexer": "ipython3",
   "version": "3.7.9"
  },
  "toc": {
   "base_numbering": 1,
   "nav_menu": {},
   "number_sections": true,
   "sideBar": true,
   "skip_h1_title": false,
   "title_cell": "Table of Contents",
   "title_sidebar": "Contents",
   "toc_cell": false,
   "toc_position": {},
   "toc_section_display": true,
   "toc_window_display": false
  }
 },
 "nbformat": 4,
 "nbformat_minor": 4
}
